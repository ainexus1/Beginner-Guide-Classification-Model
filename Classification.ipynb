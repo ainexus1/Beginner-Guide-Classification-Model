{
 "cells": [
  {
   "cell_type": "code",
   "execution_count": null,
   "id": "2f3e4f9a-3b66-46c8-9292-088dbd3b03ed",
   "metadata": {},
   "outputs": [],
   "source": [
    "#import the neccesory Libraries\n",
    "import numpy as np\n",
    "import pandas as pd\n",
    "import matplotlib.pyplot as plt"
   ]
  },
  {
   "cell_type": "code",
   "execution_count": null,
   "id": "6ddf476d-6a04-4266-90dd-475cbb181108",
   "metadata": {},
   "outputs": [],
   "source": [
    "#download the dataset\n",
    "import kagglehub\n",
    "\n",
    "# Download latest version\n",
    "path = kagglehub.dataset_download(\"saranpannasuriyaporn/male-female-height-and-weight\")\n",
    "\n",
    "print(\"Path to dataset files:\", path)"
   ]
  },
  {
   "cell_type": "code",
   "execution_count": null,
   "id": "7e54f535-7e7f-42b9-be31-4679d58d8901",
   "metadata": {},
   "outputs": [],
   "source": [
    "#load the dataset\n",
    "data = pd.read_csv(\"\")"
   ]
  },
  {
   "cell_type": "code",
   "execution_count": null,
   "id": "2569f3ae-f118-4be0-9c20-f1b238a59461",
   "metadata": {},
   "outputs": [],
   "source": [
    "data.head()"
   ]
  },
  {
   "cell_type": "code",
   "execution_count": null,
   "id": "a01a1270-c151-4827-8f9d-008f5cb46d04",
   "metadata": {},
   "outputs": [],
   "source": [
    "#replace male and female with 0 and 1\n",
    "data.loc[data['Sex']=='Male','Sex']=1\n",
    "data.loc[data['Sex']=='Female','Sex']=0"
   ]
  },
  {
   "cell_type": "code",
   "execution_count": null,
   "id": "97ecd977-8758-4469-83a6-da43c5188907",
   "metadata": {},
   "outputs": [],
   "source": [
    "#categorize the dataset into x and y\n",
    "x= data.drop(['Sex'], axis=1)\n",
    "y= data['Sex']"
   ]
  },
  {
   "cell_type": "code",
   "execution_count": null,
   "id": "93e8d206-1c85-45be-947c-91997ec7f25b",
   "metadata": {},
   "outputs": [],
   "source": [
    "#change y to int{else you'll face an error}\n",
    "y = y.astype('int')"
   ]
  },
  {
   "cell_type": "code",
   "execution_count": null,
   "id": "cc39a7fe-c96e-4b48-8820-f570260add6d",
   "metadata": {},
   "outputs": [],
   "source": [
    "#current dataset structure\n",
    "plt.scatter(x['Height'], x['Weight'], c=y)\n",
    "plt.colorbar()"
   ]
  },
  {
   "cell_type": "code",
   "execution_count": null,
   "id": "f880ee5a-eaf0-466c-a72b-da5f7442b67d",
   "metadata": {},
   "outputs": [],
   "source": [
    "#split the dataset into training set and testing set\n",
    "from sklearn.model_selection import train_test_split\n",
    "x_train, x_test, y_train, y_test = train_test_split(x, y, test_size=.2, random_state=42)"
   ]
  },
  {
   "cell_type": "code",
   "execution_count": null,
   "id": "845613ee-76fb-45fb-8b96-0b90c1d77e0b",
   "metadata": {},
   "outputs": [],
   "source": [
    "data.shape"
   ]
  },
  {
   "cell_type": "code",
   "execution_count": null,
   "id": "4cd85527-ab3d-4ce7-9ba8-597605ca70ed",
   "metadata": {},
   "outputs": [],
   "source": [
    "#preprocess the data using minmaxscaler\n",
    "from sklearn.preprocessing import MinMaxScaler\n",
    "scaler = MinMaxScaler()\n",
    "x_train_scaled = scaler.fit_transform(x_train)\n",
    "x_test_scaled = scaler.transform(x_test)"
   ]
  },
  {
   "cell_type": "code",
   "execution_count": null,
   "id": "3839a828-9896-436d-aa38-9adb755d840e",
   "metadata": {},
   "outputs": [],
   "source": [
    "import tensorflow as tf\n",
    "#build the model\n",
    "model = tf.keras.Sequential([\n",
    "    tf.keras.layers.Dense(64, activation='relu', input_shape=(x_train_scaled.shape[1],)),\n",
    "    tf.keras.layers.BatchNormalization(),\n",
    "    tf.keras.layers.Dropout(0.2),\n",
    "    \n",
    "    tf.keras.layers.Dense(32, activation ='relu'),\n",
    "    tf.keras.layers.BatchNormalization(),\n",
    "    tf.keras.layers.Dropout(0.2),\n",
    "\n",
    "    tf.keras.layers.Dense(1, activation='sigmoid') #output later\n",
    "])\n",
    "\n",
    "#Compile the model\n",
    "model.compile(loss = tf.losses.BinaryCrossentropy(),\n",
    "             optimizer = tf.keras.optimizers.Adam(learning_rate=0.005),\n",
    "             metrics = ['accuracy'])\n",
    "\n",
    "#Train the model\n",
    "History = model.fit(x_train, y_train, epochs = 20, batch_size=32)"
   ]
  },
  {
   "cell_type": "code",
   "execution_count": null,
   "id": "ea8b34a3-a756-4e5d-928f-8dce87fba242",
   "metadata": {},
   "outputs": [],
   "source": [
    "#summary of the model trained\n",
    "model.summary()"
   ]
  },
  {
   "cell_type": "code",
   "execution_count": null,
   "id": "3080b690-bae8-4c33-ba58-3c082fb71f2d",
   "metadata": {},
   "outputs": [],
   "source": [
    "y_pred = model.predict(x_test)"
   ]
  },
  {
   "cell_type": "code",
   "execution_count": null,
   "id": "b7b7fbc4-5320-413e-8815-8be696905f88",
   "metadata": {},
   "outputs": [],
   "source": [
    "#precision\n",
    "pre = tf.keras.metrics.Precision()\n",
    "pre.update_state(y_test, y_pred)\n",
    "pre.result()"
   ]
  },
  {
   "cell_type": "code",
   "execution_count": null,
   "id": "896eaae6-f15c-4a4b-a497-d883603b8472",
   "metadata": {},
   "outputs": [],
   "source": [
    "#loss and the accuracy of the model\n",
    "pd.DataFrame(History.history).plot()"
   ]
  }
 ],
 "metadata": {
  "kernelspec": {
   "display_name": "Python 3 (ipykernel)",
   "language": "python",
   "name": "python3"
  },
  "language_info": {
   "codemirror_mode": {
    "name": "ipython",
    "version": 3
   },
   "file_extension": ".py",
   "mimetype": "text/x-python",
   "name": "python",
   "nbconvert_exporter": "python",
   "pygments_lexer": "ipython3",
   "version": "3.12.4"
  }
 },
 "nbformat": 4,
 "nbformat_minor": 5
}
